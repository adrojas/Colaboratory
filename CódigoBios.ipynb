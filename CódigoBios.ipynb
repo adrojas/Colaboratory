{
  "nbformat": 4,
  "nbformat_minor": 0,
  "metadata": {
    "colab": {
      "name": "CódigoBios.ipynb",
      "provenance": [],
      "collapsed_sections": [],
      "include_colab_link": true
    },
    "kernelspec": {
      "name": "python3",
      "display_name": "Python 3"
    }
  },
  "cells": [
    {
      "cell_type": "markdown",
      "metadata": {
        "id": "view-in-github",
        "colab_type": "text"
      },
      "source": [
        "<a href=\"https://colab.research.google.com/github/adrojas/Colaboratory/blob/master/C%C3%B3digoBios.ipynb\" target=\"_parent\"><img src=\"https://colab.research.google.com/assets/colab-badge.svg\" alt=\"Open In Colab\"/></a>"
      ]
    },
    {
      "cell_type": "code",
      "metadata": {
        "id": "kMz-1bJEkG8V",
        "colab_type": "code",
        "cellView": "form",
        "colab": {
          "base_uri": "https://localhost:8080/",
          "height": 34
        },
        "outputId": "f3defe3c-29b9-41e0-aaa5-8c11526bb5ee"
      },
      "source": [
        "#@title Texto de título predeterminado { run: \"auto\", vertical-output: true }\n",
        "np = \"1\" #@param [\"1\", \"2\", \"3\", \"4\"]\n",
        "\n",
        "if np == \"1\":\n",
        "        print (\"fallo en el refresco de la memoria\")\n",
        "elif np == \"2\":\n",
        "          print (\" fallo de memoria. Error de paridad\")\n",
        "elif np == \"3\":\n",
        "      print(\"Fallo en la memoria base de 64K\")\n",
        "elif np == \"4\":\n",
        "      print(\"fallo en el timer del sistema.\")\n",
        "else:\n",
        "      print (\"Error desconocido\")\n"
      ],
      "execution_count": 5,
      "outputs": [
        {
          "output_type": "stream",
          "text": [
            "fallo en el refresco de la memoria\n"
          ],
          "name": "stdout"
        }
      ]
    }
  ]
}